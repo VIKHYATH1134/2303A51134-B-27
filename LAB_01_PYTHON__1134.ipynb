{
  "nbformat": 4,
  "nbformat_minor": 0,
  "metadata": {
    "colab": {
      "provenance": [],
      "authorship_tag": "ABX9TyMgvpZUVlyGQ34sFghJJiWM",
      "include_colab_link": true
    },
    "kernelspec": {
      "name": "python3",
      "display_name": "Python 3"
    },
    "language_info": {
      "name": "python"
    }
  },
  "cells": [
    {
      "cell_type": "markdown",
      "metadata": {
        "id": "view-in-github",
        "colab_type": "text"
      },
      "source": [
        "<a href=\"https://colab.research.google.com/github/VIKHYATH1134/2303A51134-B-27-PYTHON/blob/main/LAB_01_PYTHON__1134.ipynb\" target=\"_parent\"><img src=\"https://colab.research.google.com/assets/colab-badge.svg\" alt=\"Open In Colab\"/></a>"
      ]
    },
    {
      "cell_type": "code",
      "execution_count": 1,
      "metadata": {
        "colab": {
          "base_uri": "https://localhost:8080/"
        },
        "id": "cyNEXi8B_xg7",
        "outputId": "898199bf-b2c6-43c5-a8de-fa8c3b32205b"
      },
      "outputs": [
        {
          "output_type": "stream",
          "name": "stdout",
          "text": [
            "enter a number:8\n",
            "the factorial of 8 is 40320\n"
          ]
        }
      ],
      "source": [
        "def factorial(n):\n",
        "  if n==0 or n==1:\n",
        "    return 1\n",
        "  else:\n",
        "    return n*factorial(n-1)\n",
        "number = int(input(\"enter a number:\"))\n",
        "if number<0:\n",
        "  print(\"Factorial is not defined for negative numbers\")\n",
        "else:\n",
        "  result = factorial(number)\n",
        "  print(f\"the factorial of {number} is {result}\")"
      ]
    },
    {
      "cell_type": "code",
      "source": [
        "def factorial(n, depth=0):\n",
        "    indent = \"  \" * depth\n",
        "    print(f\"{indent}Calling factorial({n})\")\n",
        "\n",
        "    if n == 0 or n == 1:\n",
        "        print(f\"{indent}Base case reached: factorial({n}) = 1\")\n",
        "        return 1\n",
        "    else:\n",
        "        print(f\"{indent}Recursive case: {n} * factorial({n-1})\")\n",
        "        result = n * factorial(n - 1, depth + 1)\n",
        "        print(f\"{indent}Returning: {n} * factorial({n-1}) = {result}\")\n",
        "        return result\n",
        "\n",
        "\n",
        "number = int(input(\"Enter a number to calculate the factorial (≤ 10): \"))\n",
        "\n",
        "if number < 0:\n",
        "    print(\"Factorial not defined for negative numbers.\")\n",
        "elif number > 10:\n",
        "    print(\"Please enter a number ≤ 10 to visualize recursion.\")\n",
        "else:\n",
        "    final_result = factorial(number)\n",
        "    print(f\"\\nThe factorial of {number} is {final_result}\")"
      ],
      "metadata": {
        "colab": {
          "base_uri": "https://localhost:8080/"
        },
        "id": "KaSZCFqkAmVv",
        "outputId": "bc1e3b3f-54b4-4f28-8d92-9cf331def72c"
      },
      "execution_count": 2,
      "outputs": [
        {
          "output_type": "stream",
          "name": "stdout",
          "text": [
            "Enter a number to calculate the factorial (≤ 10): 4\n",
            "Calling factorial(4)\n",
            "Recursive case: 4 * factorial(3)\n",
            "  Calling factorial(3)\n",
            "  Recursive case: 3 * factorial(2)\n",
            "    Calling factorial(2)\n",
            "    Recursive case: 2 * factorial(1)\n",
            "      Calling factorial(1)\n",
            "      Base case reached: factorial(1) = 1\n",
            "    Returning: 2 * factorial(1) = 2\n",
            "  Returning: 3 * factorial(2) = 6\n",
            "Returning: 4 * factorial(3) = 24\n",
            "\n",
            "The factorial of 4 is 24\n"
          ]
        }
      ]
    },
    {
      "cell_type": "code",
      "source": [
        "import time\n",
        "import sys\n",
        "\n",
        "def factorial_recursive(n):\n",
        "    if n == 0 or n == 1:\n",
        "        return 1\n",
        "    else:\n",
        "        return n * factorial_recursive(n - 1)\n",
        "\n",
        "def factorial_iterative(n):\n",
        "    result = 1\n",
        "    for i in range(2, n + 1):\n",
        "        result *= i\n",
        "    return result\n",
        "\n",
        "number = int(input(\"Enter a number to calculate factorial (≤ 20): \"))\n",
        "\n",
        "\n",
        "if number < 0:\n",
        "    print(\"Factorial is not defined for negative numbers.\")\n",
        "elif number > 20:\n",
        "    print(\"Please enter a number ≤ 20 to avoid long recursion time.\")\n",
        "else:\n",
        "    start_rec = time.time()\n",
        "    rec_result = factorial_recursive(number)\n",
        "    end_rec = time.time()\n",
        "    rec_time = end_rec - start_rec\n",
        "    rec_memory = sys.getsizeof(rec_result)\n",
        "\n",
        "    start_itr = time.time()\n",
        "    itr_result = factorial_iterative(number)\n",
        "    end_itr = time.time()\n",
        "    itr_time = end_itr - start_itr\n",
        "    itr_memory = sys.getsizeof(itr_result)\n",
        "\n",
        "    print(\"\\n--- Factorial Results ---\")\n",
        "    print(f\"Recursive Result: {rec_result}\")\n",
        "    print(f\"Iterative Result: {itr_result}\")\n",
        "\n",
        "    print(\"\\n--- Comparison Table ---\")\n",
        "    print(f\"{'Approach':<12}{'Time (sec)':<15}{'Memory (bytes)'}\")\n",
        "    print(f\"{'-'*40}\")\n",
        "    print(f\"{'Recursive':<12}{rec_time:<15.8f}{rec_memory}\")\n",
        "    print(f\"{'Iterative':<12}{itr_time:<15.8f}{itr_memory}\")\n",
        "\n",
        "    print(\"\\n--- Pros and Cons ---\")\n",
        "    print(\"Recursive:\")\n",
        "    print(\"- Simpler to write and understand for mathematical problems.\")\n",
        "    print(\"- Consumes more memory (call stack). Risk of stack overflow for large n.\")\n",
        "\n",
        "    print(\"\\nIterative:\")\n",
        "    print(\"- More efficient in memory usage.\")\n",
        "    print(\"- Preferred for large inputs due to no recursion depth limit.\")"
      ],
      "metadata": {
        "colab": {
          "base_uri": "https://localhost:8080/"
        },
        "id": "NHj4mMXZA3YW",
        "outputId": "882aeda7-9a80-4459-88aa-088bdab6b1dc"
      },
      "execution_count": 3,
      "outputs": [
        {
          "output_type": "stream",
          "name": "stdout",
          "text": [
            "Enter a number to calculate factorial (≤ 20): 18\n",
            "\n",
            "--- Factorial Results ---\n",
            "Recursive Result: 6402373705728000\n",
            "Iterative Result: 6402373705728000\n",
            "\n",
            "--- Comparison Table ---\n",
            "Approach    Time (sec)     Memory (bytes)\n",
            "----------------------------------------\n",
            "Recursive   0.00000858     32\n",
            "Iterative   0.00000715     32\n",
            "\n",
            "--- Pros and Cons ---\n",
            "Recursive:\n",
            "- Simpler to write and understand for mathematical problems.\n",
            "- Consumes more memory (call stack). Risk of stack overflow for large n.\n",
            "\n",
            "Iterative:\n",
            "- More efficient in memory usage.\n",
            "- Preferred for large inputs due to no recursion depth limit.\n"
          ]
        }
      ]
    }
  ]
}